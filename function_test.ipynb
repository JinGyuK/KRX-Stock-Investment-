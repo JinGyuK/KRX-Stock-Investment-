{
  "nbformat": 4,
  "nbformat_minor": 0,
  "metadata": {
    "colab": {
      "provenance": []
    },
    "kernelspec": {
      "name": "python3",
      "display_name": "Python 3"
    },
    "language_info": {
      "name": "python"
    }
  },
  "cells": [
    {
      "cell_type": "code",
      "execution_count": 1,
      "metadata": {
        "colab": {
          "base_uri": "https://localhost:8080/"
        },
        "id": "_JY3wzuGORh6",
        "outputId": "34883ae9-8f30-4eec-eb28-f53f3a6855e0"
      },
      "outputs": [
        {
          "output_type": "stream",
          "name": "stdout",
          "text": [
            "Collecting pykrx\n",
            "  Downloading pykrx-1.0.44-py3-none-any.whl (2.2 MB)\n",
            "\u001b[?25l     \u001b[90m━━━━━━━━━━━━━━━━━━━━━━━━━━━━━━━━━━━━━━━━\u001b[0m \u001b[32m0.0/2.2 MB\u001b[0m \u001b[31m?\u001b[0m eta \u001b[36m-:--:--\u001b[0m\r\u001b[2K     \u001b[91m━━━━\u001b[0m\u001b[91m╸\u001b[0m\u001b[90m━━━━━━━━━━━━━━━━━━━━━━━━━━━━━━━━━━━\u001b[0m \u001b[32m0.3/2.2 MB\u001b[0m \u001b[31m8.0 MB/s\u001b[0m eta \u001b[36m0:00:01\u001b[0m\r\u001b[2K     \u001b[91m━━━━━━━━━━━━━━━━━━━━━━━━━━━━━━━━━━━━━━━\u001b[0m\u001b[91m╸\u001b[0m \u001b[32m2.2/2.2 MB\u001b[0m \u001b[31m33.9 MB/s\u001b[0m eta \u001b[36m0:00:01\u001b[0m\r\u001b[2K     \u001b[90m━━━━━━━━━━━━━━━━━━━━━━━━━━━━━━━━━━━━━━━━\u001b[0m \u001b[32m2.2/2.2 MB\u001b[0m \u001b[31m28.3 MB/s\u001b[0m eta \u001b[36m0:00:00\u001b[0m\n",
            "\u001b[?25hRequirement already satisfied: requests in /usr/local/lib/python3.10/dist-packages (from pykrx) (2.27.1)\n",
            "Requirement already satisfied: pandas in /usr/local/lib/python3.10/dist-packages (from pykrx) (1.5.3)\n",
            "Collecting datetime (from pykrx)\n",
            "  Downloading DateTime-5.1-py3-none-any.whl (52 kB)\n",
            "\u001b[2K     \u001b[90m━━━━━━━━━━━━━━━━━━━━━━━━━━━━━━━━━━━━━━━━\u001b[0m \u001b[32m52.1/52.1 kB\u001b[0m \u001b[31m7.7 MB/s\u001b[0m eta \u001b[36m0:00:00\u001b[0m\n",
            "\u001b[?25hRequirement already satisfied: numpy in /usr/local/lib/python3.10/dist-packages (from pykrx) (1.22.4)\n",
            "Requirement already satisfied: xlrd in /usr/local/lib/python3.10/dist-packages (from pykrx) (2.0.1)\n",
            "Collecting deprecated (from pykrx)\n",
            "  Downloading Deprecated-1.2.14-py2.py3-none-any.whl (9.6 kB)\n",
            "Requirement already satisfied: multipledispatch in /usr/local/lib/python3.10/dist-packages (from pykrx) (0.6.0)\n",
            "Requirement already satisfied: matplotlib in /usr/local/lib/python3.10/dist-packages (from pykrx) (3.7.1)\n",
            "Collecting zope.interface (from datetime->pykrx)\n",
            "  Downloading zope.interface-6.0-cp310-cp310-manylinux_2_5_x86_64.manylinux1_x86_64.manylinux_2_17_x86_64.manylinux2014_x86_64.whl (246 kB)\n",
            "\u001b[2K     \u001b[90m━━━━━━━━━━━━━━━━━━━━━━━━━━━━━━━━━━━━━━\u001b[0m \u001b[32m247.0/247.0 kB\u001b[0m \u001b[31m30.1 MB/s\u001b[0m eta \u001b[36m0:00:00\u001b[0m\n",
            "\u001b[?25hRequirement already satisfied: pytz in /usr/local/lib/python3.10/dist-packages (from datetime->pykrx) (2022.7.1)\n",
            "Requirement already satisfied: wrapt<2,>=1.10 in /usr/local/lib/python3.10/dist-packages (from deprecated->pykrx) (1.14.1)\n",
            "Requirement already satisfied: contourpy>=1.0.1 in /usr/local/lib/python3.10/dist-packages (from matplotlib->pykrx) (1.1.0)\n",
            "Requirement already satisfied: cycler>=0.10 in /usr/local/lib/python3.10/dist-packages (from matplotlib->pykrx) (0.11.0)\n",
            "Requirement already satisfied: fonttools>=4.22.0 in /usr/local/lib/python3.10/dist-packages (from matplotlib->pykrx) (4.40.0)\n",
            "Requirement already satisfied: kiwisolver>=1.0.1 in /usr/local/lib/python3.10/dist-packages (from matplotlib->pykrx) (1.4.4)\n",
            "Requirement already satisfied: packaging>=20.0 in /usr/local/lib/python3.10/dist-packages (from matplotlib->pykrx) (23.1)\n",
            "Requirement already satisfied: pillow>=6.2.0 in /usr/local/lib/python3.10/dist-packages (from matplotlib->pykrx) (8.4.0)\n",
            "Requirement already satisfied: pyparsing>=2.3.1 in /usr/local/lib/python3.10/dist-packages (from matplotlib->pykrx) (3.1.0)\n",
            "Requirement already satisfied: python-dateutil>=2.7 in /usr/local/lib/python3.10/dist-packages (from matplotlib->pykrx) (2.8.2)\n",
            "Requirement already satisfied: six in /usr/local/lib/python3.10/dist-packages (from multipledispatch->pykrx) (1.16.0)\n",
            "Requirement already satisfied: urllib3<1.27,>=1.21.1 in /usr/local/lib/python3.10/dist-packages (from requests->pykrx) (1.26.16)\n",
            "Requirement already satisfied: certifi>=2017.4.17 in /usr/local/lib/python3.10/dist-packages (from requests->pykrx) (2023.5.7)\n",
            "Requirement already satisfied: charset-normalizer~=2.0.0 in /usr/local/lib/python3.10/dist-packages (from requests->pykrx) (2.0.12)\n",
            "Requirement already satisfied: idna<4,>=2.5 in /usr/local/lib/python3.10/dist-packages (from requests->pykrx) (3.4)\n",
            "Requirement already satisfied: setuptools in /usr/local/lib/python3.10/dist-packages (from zope.interface->datetime->pykrx) (67.7.2)\n",
            "Installing collected packages: zope.interface, deprecated, datetime, pykrx\n",
            "Successfully installed datetime-5.1 deprecated-1.2.14 pykrx-1.0.44 zope.interface-6.0\n"
          ]
        }
      ],
      "source": [
        "!pip install pykrx\n",
        "# https://github.com/sharebook-kr/pykrx"
      ]
    },
    {
      "cell_type": "code",
      "source": [
        "import math\n",
        "import time\n",
        "import pandas as pd\n",
        "import numpy as np\n",
        "from datetime import timedelta\n",
        "from datetime import datetime\n",
        "from pykrx import stock\n",
        "import pandas as pd\n",
        "import random"
      ],
      "metadata": {
        "id": "1PXWzn00OaXP"
      },
      "execution_count": 4,
      "outputs": []
    },
    {
      "cell_type": "code",
      "source": [
        "pd.set_option('display.max_rows', None)\n",
        "pd.set_option('display.max_columns', None)\n",
        "pd.set_option('display.width', None)\n",
        "pd.set_option('display.max_colwidth', -1)\n",
        "pd.set_option('display.float_format', lambda x: f'{x:,.2f}')"
      ],
      "metadata": {
        "colab": {
          "base_uri": "https://localhost:8080/"
        },
        "id": "10CL1rtQOfEN",
        "outputId": "bf376c8d-e2d9-433c-ea93-43fa7d4a9267"
      },
      "execution_count": 5,
      "outputs": [
        {
          "output_type": "stream",
          "name": "stderr",
          "text": [
            "<ipython-input-5-4bc53803c362>:4: FutureWarning: Passing a negative integer is deprecated in version 1.0 and will not be supported in future version. Instead, use None to not limit the column width.\n",
            "  pd.set_option('display.max_colwidth', -1)\n"
          ]
        }
      ]
    },
    {
      "cell_type": "code",
      "source": [
        "def get_ohlc(start:datetime, end:datetime, tickernumber:str):  # 시작날짜부터 끝날짜까지 종목 df 받아오기\n",
        "    df = stock.get_market_ohlcv_by_date(start, end, tickernumber)\n",
        "    if len(df) == 0:\n",
        "        return []\n",
        "    # df.columns = ['Open', 'High', 'Low', 'Close',\n",
        "                #   'Volume', 'Volume_price', 'rate']\n",
        "    return df"
      ],
      "metadata": {
        "id": "S1HmVWs_Ojft"
      },
      "execution_count": 37,
      "outputs": []
    },
    {
      "cell_type": "code",
      "source": [
        "start_date = datetime(2021,1,1)\n",
        "end_date = datetime(2023,6,30)\n",
        "tickernumber = '005930' # 삼성전자 종목 코드\n",
        "samsung_df = get_ohlc(start_date, end_date, tickernumber)"
      ],
      "metadata": {
        "id": "ni0Cn5-xOty_"
      },
      "execution_count": 38,
      "outputs": []
    },
    {
      "cell_type": "code",
      "source": [
        "def get_today_count(df, date:datetime):  # df.index에서 당일 날짜 카운트하기\n",
        "    try:\n",
        "        index_list = list(df.index)\n",
        "        today_count = index_list.index(date)\n",
        "        return today_count\n",
        "    except:\n",
        "        print(\"요일 확인할것\")\n",
        "        return -1"
      ],
      "metadata": {
        "id": "XfdvqzIzPPNw"
      },
      "execution_count": 9,
      "outputs": []
    },
    {
      "cell_type": "code",
      "source": [
        "today = datetime(2023,4,1)\n",
        "today_index = get_today_count(samsung_df, today)\n",
        "print(today_index) # 4월 1일은 주식시장이 안 열었기 때문에 -1 반환"
      ],
      "metadata": {
        "colab": {
          "base_uri": "https://localhost:8080/"
        },
        "id": "qIYnuxjFPUHz",
        "outputId": "33dd1a89-d983-42a0-eefc-dd9d34ce01f4"
      },
      "execution_count": 11,
      "outputs": [
        {
          "output_type": "stream",
          "name": "stdout",
          "text": [
            "요일 확인할것\n",
            "-1\n"
          ]
        }
      ]
    },
    {
      "cell_type": "code",
      "source": [
        "today = datetime(2023,4,3)\n",
        "today_index = get_today_count(samsung_df, today)\n",
        "print(today_index) #\n",
        "print(samsung_df[today_index:today_index+5]) # 4월 3일부터 5일치 삼성 데이터"
      ],
      "metadata": {
        "colab": {
          "base_uri": "https://localhost:8080/"
        },
        "id": "Q-2oIw0IPnYT",
        "outputId": "1f3bfdde-e58b-458a-db86-730e1fc423bd"
      },
      "execution_count": 15,
      "outputs": [
        {
          "output_type": "stream",
          "name": "stdout",
          "text": [
            "556\n",
            "               시가     고가     저가     종가       거래량           거래대금   등락률\n",
            "날짜                                                                   \n",
            "2023-04-03  64000  64000  63000  63100  11973133  757289145500  -1.41\n",
            "2023-04-04  63400  63800  62800  63600  11120514  706088571400  0.79 \n",
            "2023-04-05  63700  64000  63400  63900  9176149   584822515500  0.47 \n",
            "2023-04-06  63500  63600  62300  62300  14992747  940919458200  -2.50\n",
            "2023-04-07  63800  65200  63800  65000  27476120  1778208943700 4.33 \n"
          ]
        }
      ]
    },
    {
      "cell_type": "code",
      "source": [
        "def get_high_price(df, key:str): # 고점 구하기\n",
        "    df = df[df[key] != 0]\n",
        "    if len(df) == 0:\n",
        "        return -1,-1\n",
        "    high_price_index = df.loc[:, [key]].idxmax(axis=0)\n",
        "    high_price = df._get_value(high_price_index[0], key)\n",
        "    return high_price, high_price_index[0]\n",
        "\n",
        "\n",
        "def get_low_price(df, key):  # 저점 구하기\n",
        "    df = df[df[key] != 0]\n",
        "    if len(df) == 0:\n",
        "        return -1,-1\n",
        "    low_price_index = df.loc[:, [key]].idxmin(axis=0)\n",
        "    low_price = df._get_value(low_price_index[0], key)\n",
        "    return low_price, low_price_index[0]"
      ],
      "metadata": {
        "id": "-C-usCr5P7L3"
      },
      "execution_count": 18,
      "outputs": []
    },
    {
      "cell_type": "code",
      "source": [
        "# 삼성의 1년 종가 고점, 저점 구하기\n",
        "print(get_high_price(samsung_df[-250:], '종가'))\n",
        "print(get_low_price(samsung_df[-250:], '종가'))\n",
        "# 1년동안의 고점은 72700 저점은 52600"
      ],
      "metadata": {
        "colab": {
          "base_uri": "https://localhost:8080/"
        },
        "id": "CgLFAGkJQQ9s",
        "outputId": "908249ed-8d18-4f58-ba08-ff2792206124"
      },
      "execution_count": 20,
      "outputs": [
        {
          "output_type": "stream",
          "name": "stdout",
          "text": [
            "(72700, Timestamp('2023-06-28 00:00:00'))\n",
            "(52600, Timestamp('2022-09-29 00:00:00'))\n"
          ]
        }
      ]
    },
    {
      "cell_type": "code",
      "source": [
        "# 종목들의 가격 일봉 데이터를 구하고 1년 고점과 저점 구하는 예시\n",
        "end_date = datetime(2023,7,9)\n",
        "start_date = start_date - timedelta(365) # 시작날짜부터 365일 전\n",
        "sample = pd.read_csv('sample_submission.csv')\n",
        "for sample_num, tickernumber in enumerate(sample['종목코드'].str.replace('A','')):\n",
        "    time.sleep(0.2) # 너무 빠르게 요청하면 차단당함\n",
        "    ticker_df = get_ohlc(start_date, end_date, tickernumber)\n",
        "    high_price = get_high_price(ticker_df, '고가')[0]\n",
        "    low_price = get_low_price(ticker_df, '저가')[0]\n",
        "    print(sample_num, tickernumber)\n",
        "    print(ticker_df.head(5))\n",
        "    print(f'고가 = {high_price}, 저가 = {low_price}')\n",
        "    if sample_num == 5:\n",
        "        break\n",
        ""
      ],
      "metadata": {
        "id": "EqpF_LAwQ8k5"
      },
      "execution_count": null,
      "outputs": []
    },
    {
      "cell_type": "code",
      "source": [
        "# 7월 3일 종가에 사서 다음날 종가에 팔았을 경우 수익률\n",
        "end_date = datetime(2023,7,9)\n",
        "start_date = start_date - timedelta(365) # 시작날짜부터 365일 전\n",
        "today = datetime(2023,7,3)\n",
        "sample = pd.read_csv('sample_submission.csv')\n",
        "for sample_num, tickernumber in enumerate(sample['종목코드'].str.replace('A','')):\n",
        "    time.sleep(0.2) # 너무 빠르게 요청하면 차단당함\n",
        "    ticker_df = get_ohlc(start_date, end_date, tickernumber)\n",
        "    today_count = get_today_count(ticker_df, today)\n",
        "    if today_count == -1:\n",
        "        print('상장폐지')\n",
        "        continue\n",
        "    d0_Close = ticker_df.iloc[today_count]['종가']\n",
        "    d1_Close = ticker_df.iloc[today_count+1]['종가']\n",
        "    earn = d1_Close / d0_Close\n",
        "    earn = round(earn-1, 2)\n",
        "    print(d1_Close, d0_Close)\n",
        "    print(f'수익률 : {earn}')\n",
        "    if sample_num == 10:\n",
        "        break\n",
        ""
      ],
      "metadata": {
        "id": "dvCb1IxSS95w"
      },
      "execution_count": null,
      "outputs": []
    },
    {
      "cell_type": "code",
      "source": [
        "def get_sharpe(df):\n",
        "    df['dpc'] = (df['종가'] - df['종가'].shift(1)) / df['종가'].shift(1) * 100\n",
        "    df = df.dropna()\n",
        "    return (df['dpc'].sum() - 3.5) / df['dpc'].std()"
      ],
      "metadata": {
        "id": "SfGP6U5JVjCv"
      },
      "execution_count": 65,
      "outputs": []
    },
    {
      "cell_type": "code",
      "source": [
        "#어떤 종목을 매일 종가에 사서 다음날 종가에 파는 행위를 15일동안 했을 때 샤프지수\n",
        "end_date = datetime(2023,6,21)\n",
        "start_date = datetime(2023,5,31)\n",
        "sample = pd.read_csv('sample_submission.csv')\n",
        "result_df = pd.DataFrame()\n",
        "result_num = 0\n",
        "for sample_num, tickernumber in enumerate(sample['종목코드'].str.replace('A','')):\n",
        "    time.sleep(0.2) # 너무 빠르게 요청하면 차단당함\n",
        "    ticker_df = get_ohlc(start_date, end_date, tickernumber)\n",
        "    tickername = stock.get_market_ticker_name(tickernumber)\n",
        "    sharpe = get_sharpe(ticker_df)\n",
        "    print(sample_num, tickernumber, tickername, sharpe)\n",
        "    result_df.loc[result_num, '종목코드'] = tickernumber\n",
        "    result_df.loc[result_num, '종목명'] = tickername\n",
        "    result_df.loc[result_num, '매수 샤프지수'] = sharpe\n",
        "    result_df.loc[result_num, '매도 샤프지수'] = -sharpe\n",
        "    result_num += 1\n",
        ""
      ],
      "metadata": {
        "colab": {
          "base_uri": "https://localhost:8080/"
        },
        "id": "JU97Ro2yVE8c",
        "outputId": "c01e5de3-ce17-43f2-b283-24b21943b7eb"
      },
      "execution_count": null,
      "outputs": [
        {
          "output_type": "stream",
          "name": "stdout",
          "text": [
            "0 000020 동화약품 5.192399232308422\n",
            "1 000040 KR모터스 -14.458407547778064\n",
            "2 000050 경방 -10.772080291998765\n",
            "3 000070 삼양홀딩스 1.7126422726230488\n",
            "4 000080 하이트진로 -8.033740541657984\n",
            "5 000100 유한양행 -3.9889839156325166\n",
            "6 000120 CJ대한통운 -8.276936124125132\n",
            "7 000140 하이트진로홀딩스 -9.125054902458153\n",
            "8 000150 두산 -0.892402228293815\n",
            "9 000180 성창기업지주 1.620152688896821\n",
            "10 000210 DL -3.850637528577267\n",
            "11 000220 유유제약 -8.79767356925249\n",
            "12 000230 일동홀딩스 -12.194133534077727\n",
            "13 000240 한국앤컴퍼니 -3.488188152149267\n",
            "14 000250 삼천당제약 -3.2544687500761547\n",
            "15 000270 기아 -2.922281698619215\n",
            "16 000300 대유플러스 4.768942110736431\n",
            "17 000320 노루홀딩스 -0.5934657044696918\n",
            "18 000370 한화손해보험 -10.265065889071236\n",
            "19 000390 삼화페인트 0.8089442490859072\n",
            "20 000400 롯데손해보험 -1.5737260274642837\n",
            "21 000430 대원강업 -1.6308185165983535\n",
            "22 000440 중앙에너비스 -3.5191780525642553\n",
            "23 000480 조선내화 6.274360766712768\n",
            "24 000490 대동 -0.11566221573856157\n",
            "25 000500 가온전선 2.31643411035926\n",
            "26 000520 삼일제약 -4.132953231123141\n",
            "27 000540 흥국화재 -4.966855635325073\n",
            "28 000590 CS홀딩스 -3.361025127143665\n",
            "29 000640 동아쏘시오홀딩스 0.6518564060265147\n",
            "30 000650 천일고속 -6.60312145298541\n",
            "31 000660 SK하이닉스 1.1968201141468007\n",
            "32 000670 영풍 0.2532404644930755\n",
            "33 000680 LS네트웍스 -2.123720596337726\n",
            "34 000700 유수홀딩스 -8.075515578052336\n",
            "35 000720 현대건설 -0.3392862479980185\n",
            "36 000760 이화산업 -9.75532753283637\n",
            "37 000810 삼성화재 -2.6829730863631545\n",
            "38 000850 화천기공 0.13680750300546424\n",
            "39 000860 강남제비스코 -2.1663489025635956\n",
            "40 000880 한화 -1.0727251760725123\n",
            "41 000890 보해양조 -6.403058920381919\n",
            "42 000910 유니온 -6.047372146965925\n"
          ]
        }
      ]
    }
  ]
}